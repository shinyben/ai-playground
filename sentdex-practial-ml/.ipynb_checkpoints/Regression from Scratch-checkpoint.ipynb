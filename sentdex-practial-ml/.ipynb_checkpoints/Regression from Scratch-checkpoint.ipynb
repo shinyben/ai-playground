{
 "cells": [
  {
   "cell_type": "markdown",
   "metadata": {},
   "source": [
    "# Part VIII - Part XII"
   ]
  },
  {
   "cell_type": "code",
   "execution_count": 16,
   "metadata": {},
   "outputs": [],
   "source": [
    "from statistics import mean\n",
    "import numpy as np\n",
    "import matplotlib.pyplot as plt\n",
    "from matplotlib import style\n",
    "\n",
    "# define data\n",
    "# xs = np.array([1, 2, 3, 4, 5, 6], dtype=np.float64)\n",
    "# ys = np.array([5, 4, 6, 5, 6, 7], dtype=np.float64)\n",
    "\n",
    "# scatter plot of data\n",
    "style.use('fivethirtyeight')\n",
    "# plt.scatter(xs, ys)"
   ]
  },
  {
   "cell_type": "code",
   "execution_count": 17,
   "metadata": {},
   "outputs": [],
   "source": [
    "import random\n",
    "\n",
    "def create_dataset(hm, variance, step=2, correlation=False):\n",
    "    val = 1\n",
    "    ys = []\n",
    "    \n",
    "    for i in range(hm):\n",
    "        y = val + random.randrange(-variance, variance)\n",
    "        ys.append(y)\n",
    "        if correlation and correlation == 'pos':\n",
    "            val+=step\n",
    "        elif correlation and correlation == 'neg':\n",
    "            val-=step\n",
    "\n",
    "    xs = [i for i in range(len(ys))]\n",
    "    \n",
    "    return np.array(xs, dtype=np.float64), np.array(ys, dtype=np.float64) \n",
    "\n",
    "xs, ys = create_dataset(40, 40, 2, correlation='pos')"
   ]
  },
  {
   "cell_type": "code",
   "execution_count": 18,
   "metadata": {
    "scrolled": true
   },
   "outputs": [
    {
     "data": {
      "text/plain": [
       "[<matplotlib.lines.Line2D at 0x1bdf41aa710>]"
      ]
     },
     "execution_count": 18,
     "metadata": {},
     "output_type": "execute_result"
    },
    {
     "data": {
      "image/png": "[encoded data removed]",
      "text/plain": [
       "<Figure size 432x288 with 1 Axes>"
      ]
     },
     "metadata": {},
     "output_type": "display_data"
    }
   ],
   "source": [
    "# get best fit slope for data\n",
    "def best_fit_slope(xs, ys):\n",
    "    m = (mean(xs) * mean(ys) - mean(xs * ys)) / (mean(xs)**2 - mean(xs**2))  \n",
    "    b = mean(ys) - m * mean(xs)\n",
    "    return m, b\n",
    "\n",
    "m, b = best_fit_slope(xs, ys)\n",
    "reg_line = [m*x+b for x in xs]\n",
    "\n",
    "# prediction example\n",
    "# pred_x = 8\n",
    "# pred_y = m * pred_x + b\n",
    "\n",
    "# plot best fit slope over data\n",
    "plt.scatter(xs, ys)\n",
    "# plt.scatter(pred_x, pred_y)\n",
    "plt.plot(xs, reg_line)"
   ]
  },
  {
   "cell_type": "code",
   "execution_count": 19,
   "metadata": {},
   "outputs": [
    {
     "data": {
      "text/plain": [
       "0.42696409635166566"
      ]
     },
     "execution_count": 19,
     "metadata": {},
     "output_type": "execute_result"
    }
   ],
   "source": [
    "# function to get SE\n",
    "def squared_error(ys_orig, ys_line):\n",
    "    return sum((ys_line - ys_orig) ** 2)\n",
    "        \n",
    "# function to get coefficient of determination\n",
    "def coefficient_of_determination(ys_orig, ys_line):\n",
    "    y_mean_line = [mean(ys_orig) for _ in ys_orig]\n",
    "    squared_err_reg = squared_error(ys_orig, ys_line)\n",
    "    squared_err_y_mean = squared_error(ys_orig, y_mean_line)\n",
    "    return 1 - squared_err_reg / squared_err_y_mean\n",
    "\n",
    "r_squared = coefficient_of_determination(ys, reg_line)\n",
    "r_squared"
   ]
  }
 ],
 "metadata": {
  "kernelspec": {
   "display_name": "Python 3",
   "language": "python",
   "name": "python3"
  },
  "language_info": {
   "codemirror_mode": {
    "name": "ipython",
    "version": 3
   },
   "file_extension": ".py",
   "mimetype": "text/x-python",
   "name": "python",
   "nbconvert_exporter": "python",
   "pygments_lexer": "ipython3",
   "version": "3.6.2"
  }
 },
 "nbformat": 4,
 "nbformat_minor": 2
}
